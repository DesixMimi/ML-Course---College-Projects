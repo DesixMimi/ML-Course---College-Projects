{
 "cells": [
  {
   "cell_type": "code",
   "execution_count": 1,
   "metadata": {},
   "outputs": [],
   "source": [
    "# --------------------------------------\n",
    "import pandas as pd\n",
    "import numpy as np\n",
    "# --------------------------------------\n",
    "\n",
    "# --------------------------------------\n",
    "# ------------- visualizations:\n",
    "import seaborn as sns\n",
    "import matplotlib.pyplot as plt\n",
    "from matplotlib.colors import ListedColormap\n",
    "# --------------------------------------\n",
    "\n",
    "\n",
    "# ---------------------------------------\n",
    "import sklearn\n",
    "from sklearn import preprocessing, metrics, pipeline, model_selection, feature_extraction \n",
    "from sklearn.model_selection import train_test_split, cross_val_score, GridSearchCV \n",
    "from sklearn.pipeline import Pipeline\n",
    "from sklearn.metrics import accuracy_score, confusion_matrix, plot_confusion_matrix\n",
    "from sklearn.metrics import precision_score, recall_score, f1_score\n",
    "from sklearn.metrics import mean_squared_error, r2_score, silhouette_score\n",
    "\n",
    "from sklearn.linear_model import Perceptron, SGDClassifier\n",
    "from sklearn.decomposition import PCA\n",
    "\n",
    "# ---------------------------------------\n",
    "\n",
    "\n",
    "# ----------------- output and visualizations: \n",
    "import warnings\n",
    "from sklearn.exceptions import ConvergenceWarning\n",
    "# show several prints in one cell. This will allow us to condence every trick in one cell.\n",
    "from IPython.core.interactiveshell import InteractiveShell\n",
    "InteractiveShell.ast_node_interactivity = \"all\"\n",
    "%matplotlib inline\n",
    "# pd.pandas.set_option('display.max_columns', None)\n",
    "pd.set_option('display.float_format', lambda x: '%.3f' % x)\n",
    "# ---------------------------------------"
   ]
  },
  {
   "cell_type": "markdown",
   "metadata": {},
   "source": [
    "### Text analysis and String manipulation imports:\n",
    "\n",
    "*Not allowed to use stop words*"
   ]
  },
  {
   "cell_type": "code",
   "execution_count": 2,
   "metadata": {},
   "outputs": [],
   "source": [
    "# --------------------------------------\n",
    "# --------- Text analysis and Hebrew text analysis imports:\n",
    "# vectorizers:\n",
    "from sklearn.feature_extraction import text\n",
    "from sklearn.feature_extraction.text import CountVectorizer, TfidfVectorizer\n",
    "\n",
    "# regular expressions:\n",
    "import re\n",
    "# --------------------------------------"
   ]
  },
  {
   "cell_type": "code",
   "execution_count": 3,
   "metadata": {},
   "outputs": [
    {
     "data": {
      "text/html": [
       "<div>\n",
       "<style scoped>\n",
       "    .dataframe tbody tr th:only-of-type {\n",
       "        vertical-align: middle;\n",
       "    }\n",
       "\n",
       "    .dataframe tbody tr th {\n",
       "        vertical-align: top;\n",
       "    }\n",
       "\n",
       "    .dataframe thead th {\n",
       "        text-align: right;\n",
       "    }\n",
       "</style>\n",
       "<table border=\"1\" class=\"dataframe\">\n",
       "  <thead>\n",
       "    <tr style=\"text-align: right;\">\n",
       "      <th></th>\n",
       "      <th>story</th>\n",
       "      <th>gender</th>\n",
       "    </tr>\n",
       "  </thead>\n",
       "  <tbody>\n",
       "    <tr>\n",
       "      <th>0</th>\n",
       "      <td>כשחבר הזמין אותי לחול, לא באמת חשבתי שזה יקרה,...</td>\n",
       "      <td>m</td>\n",
       "    </tr>\n",
       "    <tr>\n",
       "      <th>1</th>\n",
       "      <td>לפני שהתגייסתי לצבא עשיתי כל מני מיונים ליחידו...</td>\n",
       "      <td>m</td>\n",
       "    </tr>\n",
       "    <tr>\n",
       "      <th>2</th>\n",
       "      <td>מאז שהתחילו הלימודים חלומו של כל סטודנט זה הפנ...</td>\n",
       "      <td>f</td>\n",
       "    </tr>\n",
       "    <tr>\n",
       "      <th>3</th>\n",
       "      <td>כשהייתי ילד, מטוסים היה הדבר שהכי ריתק אותי. ב...</td>\n",
       "      <td>m</td>\n",
       "    </tr>\n",
       "    <tr>\n",
       "      <th>4</th>\n",
       "      <td>‏הייתי מדריכה בכפר נוער ומתאם הכפר היינו צריכי...</td>\n",
       "      <td>f</td>\n",
       "    </tr>\n",
       "  </tbody>\n",
       "</table>\n",
       "</div>"
      ],
      "text/plain": [
       "                                               story gender\n",
       "0  כשחבר הזמין אותי לחול, לא באמת חשבתי שזה יקרה,...      m\n",
       "1  לפני שהתגייסתי לצבא עשיתי כל מני מיונים ליחידו...      m\n",
       "2  מאז שהתחילו הלימודים חלומו של כל סטודנט זה הפנ...      f\n",
       "3  כשהייתי ילד, מטוסים היה הדבר שהכי ריתק אותי. ב...      m\n",
       "4  ‏הייתי מדריכה בכפר נוער ומתאם הכפר היינו צריכי...      f"
      ]
     },
     "execution_count": 3,
     "metadata": {},
     "output_type": "execute_result"
    },
    {
     "data": {
      "text/plain": [
       "(753, 2)"
      ]
     },
     "execution_count": 3,
     "metadata": {},
     "output_type": "execute_result"
    }
   ],
   "source": [
    "train_filename = 'annotated_corpus_for_train.csv'\n",
    "df_train = pd.read_csv(train_filename, index_col=None, encoding='utf-8')\n",
    "df_train.head()\n",
    "df_train.shape"
   ]
  },
  {
   "cell_type": "markdown",
   "metadata": {},
   "source": [
    "## Data Visualization"
   ]
  },
  {
   "cell_type": "markdown",
   "metadata": {},
   "source": [
    "### Balance of the data"
   ]
  },
  {
   "cell_type": "code",
   "execution_count": 4,
   "metadata": {},
   "outputs": [
    {
     "data": {
      "image/png": "[encoded data removed]",
      "text/plain": [
       "<Figure size 1152x576 with 1 Axes>"
      ]
     },
     "metadata": {
      "needs_background": "light"
     },
     "output_type": "display_data"
    }
   ],
   "source": [
    "df_train['gender'].value_counts()\n",
    "# Conver label to numerical data\n",
    "df_train['gender_num'] = df_train.gender.map({'m':0, 'f':1})\n",
    "male = df_train[df_train.gender == 'm'].shape[0]\n",
    "female = df_train[df_train.gender == 'f'].shape[0]\n",
    "plt.figure(1, figsize=(16, 8))\n",
    "plt.subplot(1, 2, 1)\n",
    "_ = plt.bar([\"Male\", \"Female\"], [male , female])\n",
    "plt.title(\"Imbalanced Data\", pad=20);plt.margins(x=0);"
   ]
  },
  {
   "cell_type": "markdown",
   "metadata": {},
   "source": [
    "### Text Analysis"
   ]
  },
  {
   "cell_type": "code",
   "execution_count": 5,
   "metadata": {},
   "outputs": [],
   "source": [
    "def plot_target_based_features(feature):\n",
    "    x1 = df_train[df_train.gender_num == 0][feature]\n",
    "    x2 = df_train[df_train.gender_num == 1][feature]\n",
    "    plt.figure(1, figsize=(16, 8))\n",
    "    plt.subplot(1, 1, 1)\n",
    "    _ = plt.hist(x1, alpha=0.7, color=\"grey\", bins=50)\n",
    "    _ = plt.hist(x2, alpha=0.5, color=\"red\", bins=50)\n",
    "\n",
    "    return _"
   ]
  },
  {
   "cell_type": "code",
   "execution_count": 6,
   "metadata": {},
   "outputs": [
    {
     "data": {
      "image/png": "[encoded data removed]",
      "text/plain": [
       "<Figure size 1152x576 with 1 Axes>"
      ]
     },
     "metadata": {
      "needs_background": "light"
     },
     "output_type": "display_data"
    }
   ],
   "source": [
    "df_train[\"words_count\"] = df_train.story.str.split().map(lambda x: len(x))\n",
    "_ = plot_target_based_features(\"words_count\")\n",
    "plt.title(\"The distribution of words between male and female\", pad=20);plt.margins(x=0);"
   ]
  },
  {
   "cell_type": "code",
   "execution_count": 7,
   "metadata": {},
   "outputs": [],
   "source": [
    "df_train[\"unique_word_count\"] = df_train.story.map(lambda x: len(set(str(x).split())))"
   ]
  },
  {
   "cell_type": "code",
   "execution_count": 8,
   "metadata": {},
   "outputs": [
    {
     "data": {
      "image/png": "[encoded data removed]",
      "text/plain": [
       "<Figure size 1152x576 with 1 Axes>"
      ]
     },
     "metadata": {
      "needs_background": "light"
     },
     "output_type": "display_data"
    }
   ],
   "source": [
    "_ = plot_target_based_features(\"unique_word_count\")\n",
    "plt.title(\"The distribution of unique words between male and female\", pad=20);plt.margins(x=0);"
   ]
  },
  {
   "cell_type": "code",
   "execution_count": 9,
   "metadata": {},
   "outputs": [],
   "source": [
    "df_train['gender'] = df_train['gender_num']\n",
    "df_train.drop(columns = 'gender_num', inplace=True)"
   ]
  },
  {
   "cell_type": "code",
   "execution_count": 10,
   "metadata": {},
   "outputs": [
    {
     "data": {
      "image/png": "[encoded data removed]",
      "text/plain": [
       "<Figure size 1008x504 with 1 Axes>"
      ]
     },
     "metadata": {
      "needs_background": "light"
     },
     "output_type": "display_data"
    }
   ],
   "source": [
    "visulization_df = df_train.copy()\n",
    "visulization_df['story_len'] = visulization_df['story'].map(lambda x: len(x))\n",
    "visulization_df['story_n_words'] = visulization_df['story'].map(lambda x: len(x.split()))\n",
    "fig, ax = plt.subplots(figsize=(14,7))\n",
    "visulization_df.story_len.plot(kind='hist',edgecolor=\"k\");\n",
    "visulization_df.story_n_words.plot(kind='hist',color='r',edgecolor=\"k\", alpha=0.7);\n",
    "plt.axvline(visulization_df['story_len'].median(), ls = '--',color='r',lw=2);\n",
    "plt.axvline(visulization_df['story_n_words'].median(), ls = '--',color='r',lw=2);\n",
    "textstr = (f\"median characters in a story: {round(visulization_df['story_len'].median())} \\n\"\n",
    "           f\"median words in a story: {round(visulization_df['story_n_words'].median())}\")  \n",
    "props = dict(boxstyle='round', facecolor='wheat', alpha=0.5,edgecolor='black')\n",
    "plt.text(0.65, 0.95, textstr, fontsize=14,transform=ax.transAxes,verticalalignment='top', bbox=props)\n",
    "plt.title(\"The distribution of words and characters in all stories\", pad=20);plt.margins(x=0);"
   ]
  },
  {
   "cell_type": "code",
   "execution_count": 11,
   "metadata": {},
   "outputs": [
    {
     "data": {
      "text/html": [
       "<div>\n",
       "<style scoped>\n",
       "    .dataframe tbody tr th:only-of-type {\n",
       "        vertical-align: middle;\n",
       "    }\n",
       "\n",
       "    .dataframe tbody tr th {\n",
       "        vertical-align: top;\n",
       "    }\n",
       "\n",
       "    .dataframe thead th {\n",
       "        text-align: right;\n",
       "    }\n",
       "</style>\n",
       "<table border=\"1\" class=\"dataframe\">\n",
       "  <thead>\n",
       "    <tr style=\"text-align: right;\">\n",
       "      <th></th>\n",
       "      <th>story</th>\n",
       "      <th>gender</th>\n",
       "    </tr>\n",
       "  </thead>\n",
       "  <tbody>\n",
       "    <tr>\n",
       "      <th>0</th>\n",
       "      <td>כשחבר הזמין אותי לחול, לא באמת חשבתי שזה יקרה,...</td>\n",
       "      <td>0</td>\n",
       "    </tr>\n",
       "    <tr>\n",
       "      <th>1</th>\n",
       "      <td>לפני שהתגייסתי לצבא עשיתי כל מני מיונים ליחידו...</td>\n",
       "      <td>0</td>\n",
       "    </tr>\n",
       "    <tr>\n",
       "      <th>2</th>\n",
       "      <td>מאז שהתחילו הלימודים חלומו של כל סטודנט זה הפנ...</td>\n",
       "      <td>1</td>\n",
       "    </tr>\n",
       "    <tr>\n",
       "      <th>3</th>\n",
       "      <td>כשהייתי ילד, מטוסים היה הדבר שהכי ריתק אותי. ב...</td>\n",
       "      <td>0</td>\n",
       "    </tr>\n",
       "    <tr>\n",
       "      <th>4</th>\n",
       "      <td>‏הייתי מדריכה בכפר נוער ומתאם הכפר היינו צריכי...</td>\n",
       "      <td>1</td>\n",
       "    </tr>\n",
       "    <tr>\n",
       "      <th>...</th>\n",
       "      <td>...</td>\n",
       "      <td>...</td>\n",
       "    </tr>\n",
       "    <tr>\n",
       "      <th>748</th>\n",
       "      <td>אז לפני שנה בדיוק טסתי לאמסטרדם עם שני חברים ט...</td>\n",
       "      <td>0</td>\n",
       "    </tr>\n",
       "    <tr>\n",
       "      <th>749</th>\n",
       "      <td>שבוע שעבר העליתי באופן ספונטני רעיון לנסוע עם ...</td>\n",
       "      <td>0</td>\n",
       "    </tr>\n",
       "    <tr>\n",
       "      <th>750</th>\n",
       "      <td>לפני חודש עברנו לדירה בבית שמש בעקבות משפחתי ה...</td>\n",
       "      <td>0</td>\n",
       "    </tr>\n",
       "    <tr>\n",
       "      <th>751</th>\n",
       "      <td>החוויה אותה ארצה לשתף התרחשה לפני כמה חודשים, ...</td>\n",
       "      <td>1</td>\n",
       "    </tr>\n",
       "    <tr>\n",
       "      <th>752</th>\n",
       "      <td>פעם כשהייתי בחו\" \"ל ,בקבולומביה כחלק מהטיול של...</td>\n",
       "      <td>0</td>\n",
       "    </tr>\n",
       "  </tbody>\n",
       "</table>\n",
       "<p>753 rows × 2 columns</p>\n",
       "</div>"
      ],
      "text/plain": [
       "                                                 story  gender\n",
       "0    כשחבר הזמין אותי לחול, לא באמת חשבתי שזה יקרה,...       0\n",
       "1    לפני שהתגייסתי לצבא עשיתי כל מני מיונים ליחידו...       0\n",
       "2    מאז שהתחילו הלימודים חלומו של כל סטודנט זה הפנ...       1\n",
       "3    כשהייתי ילד, מטוסים היה הדבר שהכי ריתק אותי. ב...       0\n",
       "4    ‏הייתי מדריכה בכפר נוער ומתאם הכפר היינו צריכי...       1\n",
       "..                                                 ...     ...\n",
       "748  אז לפני שנה בדיוק טסתי לאמסטרדם עם שני חברים ט...       0\n",
       "749  שבוע שעבר העליתי באופן ספונטני רעיון לנסוע עם ...       0\n",
       "750  לפני חודש עברנו לדירה בבית שמש בעקבות משפחתי ה...       0\n",
       "751  החוויה אותה ארצה לשתף התרחשה לפני כמה חודשים, ...       1\n",
       "752  פעם כשהייתי בחו\" \"ל ,בקבולומביה כחלק מהטיול של...       0\n",
       "\n",
       "[753 rows x 2 columns]"
      ]
     },
     "execution_count": 11,
     "metadata": {},
     "output_type": "execute_result"
    }
   ],
   "source": [
    "df = df_train[['story','gender']].copy()\n",
    "df"
   ]
  },
  {
   "cell_type": "markdown",
   "metadata": {},
   "source": [
    "***Balanced data gave worse results, stayed with unbalanced***"
   ]
  },
  {
   "cell_type": "raw",
   "metadata": {},
   "source": [
    "def get_balanced_df(df, col):\n",
    "    shuffled_df = df.sample(frac=1,random_state=4)\n",
    "    df_f = shuffled_df.loc[shuffled_df[col] == 1]\n",
    "    df_m = shuffled_df.loc[shuffled_df[col] == 0].sample(n=(df_f.shape[0]),random_state=42)\n",
    "    balanced_df = pd.concat([df_f, df_m])\n",
    "#     print(shuffled_df.loc[shuffled_df['gender'] == 0])\n",
    "#     print(type(df_f.shape[0]))\n",
    "#     plt.figure(figsize=(8, 8))\n",
    "#     sns.countplot('gender', data=balanced_df)\n",
    "#     plt.title('Balanced Classes')\n",
    "#     plt.show()\n",
    "    return balanced_df"
   ]
  },
  {
   "cell_type": "markdown",
   "metadata": {},
   "source": [
    "***Removing Hebrew words prefixes and panctuations***"
   ]
  },
  {
   "cell_type": "code",
   "execution_count": 12,
   "metadata": {},
   "outputs": [],
   "source": [
    "def remove_prefix(text):\n",
    "    prefix_1 = 'ו'\n",
    "    prefix_2 = 'כש'\n",
    "#     prefix_3 = 'ל'\n",
    "    prefix = 'ש'\n",
    "    no_prefix =\"\"\n",
    "    for word in text.split():\n",
    "        if word.startswith(prefix) or word.startswith(prefix_1):\n",
    "            word = word[1:]\n",
    "        elif word.startswith(prefix_2):\n",
    "            word = word[2:]\n",
    "\n",
    "        no_prefix += str(word)\n",
    "        no_prefix += str(\" \")\n",
    "\n",
    "    return no_prefix"
   ]
  },
  {
   "cell_type": "code",
   "execution_count": 13,
   "metadata": {},
   "outputs": [],
   "source": [
    "def remove_punctuations(df, col):\n",
    "\n",
    "    df[col] = df[col].str.replace('[^\\u0590-\\u05FF]', ' ')\n",
    "    df[col]=df[col].apply(lambda x:remove_prefix(x))\n",
    "\n",
    "    return df"
   ]
  },
  {
   "cell_type": "code",
   "execution_count": 14,
   "metadata": {},
   "outputs": [
    {
     "name": "stdout",
     "output_type": "stream",
     "text": [
      "The amount of duplicated stories is: 3\n"
     ]
    },
    {
     "data": {
      "text/html": [
       "<div>\n",
       "<style scoped>\n",
       "    .dataframe tbody tr th:only-of-type {\n",
       "        vertical-align: middle;\n",
       "    }\n",
       "\n",
       "    .dataframe tbody tr th {\n",
       "        vertical-align: top;\n",
       "    }\n",
       "\n",
       "    .dataframe thead th {\n",
       "        text-align: right;\n",
       "    }\n",
       "</style>\n",
       "<table border=\"1\" class=\"dataframe\">\n",
       "  <thead>\n",
       "    <tr style=\"text-align: right;\">\n",
       "      <th></th>\n",
       "      <th>story</th>\n",
       "      <th>gender</th>\n",
       "    </tr>\n",
       "  </thead>\n",
       "  <tbody>\n",
       "    <tr>\n",
       "      <th>0</th>\n",
       "      <td>חבר הזמין אותי לחול לא באמת חשבתי זה יקרה פשוט...</td>\n",
       "      <td>0</td>\n",
       "    </tr>\n",
       "    <tr>\n",
       "      <th>1</th>\n",
       "      <td>לפני התגייסתי לצבא עשיתי כל מני מיונים ליחידות...</td>\n",
       "      <td>0</td>\n",
       "    </tr>\n",
       "    <tr>\n",
       "      <th>2</th>\n",
       "      <td>מאז התחילו הלימודים חלומו ל כל סטודנט זה הפנגו...</td>\n",
       "      <td>1</td>\n",
       "    </tr>\n",
       "    <tr>\n",
       "      <th>3</th>\n",
       "      <td>הייתי ילד מטוסים היה הדבר הכי ריתק אותי בתור ב...</td>\n",
       "      <td>0</td>\n",
       "    </tr>\n",
       "    <tr>\n",
       "      <th>4</th>\n",
       "      <td>הייתי מדריכה בכפר נוער מתאם הכפר היינו צריכים ...</td>\n",
       "      <td>1</td>\n",
       "    </tr>\n",
       "    <tr>\n",
       "      <th>...</th>\n",
       "      <td>...</td>\n",
       "      <td>...</td>\n",
       "    </tr>\n",
       "    <tr>\n",
       "      <th>747</th>\n",
       "      <td>בקיץ האחרון יצאתי לטיול עם חברים לטיול באיזור ...</td>\n",
       "      <td>0</td>\n",
       "    </tr>\n",
       "    <tr>\n",
       "      <th>748</th>\n",
       "      <td>אז לפני נה בדיוק טסתי לאמסטרדם עם ני חברים טוב...</td>\n",
       "      <td>0</td>\n",
       "    </tr>\n",
       "    <tr>\n",
       "      <th>750</th>\n",
       "      <td>לפני חודש עברנו לדירה בבית מש בעקבות משפחתי המ...</td>\n",
       "      <td>0</td>\n",
       "    </tr>\n",
       "    <tr>\n",
       "      <th>751</th>\n",
       "      <td>החוויה אותה ארצה לשתף התרחשה לפני כמה חודשים ז...</td>\n",
       "      <td>1</td>\n",
       "    </tr>\n",
       "    <tr>\n",
       "      <th>752</th>\n",
       "      <td>פעם הייתי בחו ל בקבולומביה כחלק מהטיול לי לדרו...</td>\n",
       "      <td>0</td>\n",
       "    </tr>\n",
       "  </tbody>\n",
       "</table>\n",
       "<p>749 rows × 2 columns</p>\n",
       "</div>"
      ],
      "text/plain": [
       "                                                 story  gender\n",
       "0    חבר הזמין אותי לחול לא באמת חשבתי זה יקרה פשוט...       0\n",
       "1    לפני התגייסתי לצבא עשיתי כל מני מיונים ליחידות...       0\n",
       "2    מאז התחילו הלימודים חלומו ל כל סטודנט זה הפנגו...       1\n",
       "3    הייתי ילד מטוסים היה הדבר הכי ריתק אותי בתור ב...       0\n",
       "4    הייתי מדריכה בכפר נוער מתאם הכפר היינו צריכים ...       1\n",
       "..                                                 ...     ...\n",
       "747  בקיץ האחרון יצאתי לטיול עם חברים לטיול באיזור ...       0\n",
       "748  אז לפני נה בדיוק טסתי לאמסטרדם עם ני חברים טוב...       0\n",
       "750  לפני חודש עברנו לדירה בבית מש בעקבות משפחתי המ...       0\n",
       "751  החוויה אותה ארצה לשתף התרחשה לפני כמה חודשים ז...       1\n",
       "752  פעם הייתי בחו ל בקבולומביה כחלק מהטיול לי לדרו...       0\n",
       "\n",
       "[749 rows x 2 columns]"
      ]
     },
     "execution_count": 14,
     "metadata": {},
     "output_type": "execute_result"
    }
   ],
   "source": [
    "df = remove_punctuations(df, 'story')\n",
    "print(\"The amount of duplicated stories is:\",df.duplicated().sum())\n",
    "df.drop_duplicates(subset='story',keep = 'first')"
   ]
  },
  {
   "cell_type": "markdown",
   "metadata": {},
   "source": [
    "***Looking at the most frequent n-grams***"
   ]
  },
  {
   "cell_type": "code",
   "execution_count": 15,
   "metadata": {},
   "outputs": [],
   "source": [
    "def get_top_text_ngrams(corpus, ngrams=(1, 1), nr=None):\n",
    "    \"\"\"\n",
    "    Creates a bag of ngrams and counts ngram frequency.\n",
    "    \n",
    "    Returns a sorted list of tuples: (ngram, count)\n",
    "    \"\"\"\n",
    "    regex1 = r'(\\w{2,20})\\b'\n",
    "\n",
    "    vec = CountVectorizer(ngram_range=ngrams, min_df=0.08, max_df=0.8,token_pattern  = regex1).fit(corpus)\n",
    "    bag_of_words = vec.transform(corpus)\n",
    "    df_train_bow = pd.DataFrame(bag_of_words.toarray(), columns=vec.get_feature_names_out())\n",
    "    sum_words = bag_of_words.sum(axis=0)\n",
    "    words_freq = [(word, sum_words[0, idx]) for word, idx in vec.vocabulary_.items()]\n",
    "    words_freq = sorted(words_freq, key=lambda x: x[1], reverse=True)\n",
    "    return words_freq[:nr], df_train_bow"
   ]
  },
  {
   "cell_type": "code",
   "execution_count": 16,
   "metadata": {},
   "outputs": [
    {
     "data": {
      "text/plain": [
       "[('זה היה', 306),\n",
       " ('לא היה', 296),\n",
       " ('לאחר מכן', 294),\n",
       " ('את כל', 294),\n",
       " ('כל כך', 241),\n",
       " ('אני לא', 230),\n",
       " ('על מנת', 208),\n",
       " ('את זה', 203),\n",
       " ('זה לא', 201),\n",
       " ('היה לי', 158),\n",
       " ('לי את', 136),\n",
       " ('תוך כדי', 128),\n",
       " ('לאחר כמה', 122),\n",
       " ('כמה ימים', 118),\n",
       " ('הוא לא', 117)]"
      ]
     },
     "execution_count": 16,
     "metadata": {},
     "output_type": "execute_result"
    }
   ],
   "source": [
    "top_text_bigrams, df_train_bow = get_top_text_ngrams(df.story, ngrams=(2, 3), nr=15) #336\n",
    "top_text_bigrams"
   ]
  },
  {
   "cell_type": "markdown",
   "metadata": {},
   "source": [
    "## Data Splitting"
   ]
  },
  {
   "cell_type": "code",
   "execution_count": 17,
   "metadata": {},
   "outputs": [],
   "source": [
    "def decouple_data(df, label):\n",
    "    y = df[label].copy()\n",
    "    X = df.drop(columns=[label]).copy()\n",
    "    return X, y"
   ]
  },
  {
   "cell_type": "code",
   "execution_count": 18,
   "metadata": {},
   "outputs": [],
   "source": [
    "def split_data(X, y):\n",
    "    X_train, X_test, y_train, y_test = train_test_split(X,y, test_size = 0.10, random_state = 42)\n",
    "    return X_train, X_test, y_train, y_test"
   ]
  },
  {
   "cell_type": "code",
   "execution_count": 19,
   "metadata": {},
   "outputs": [
    {
     "name": "stdout",
     "output_type": "stream",
     "text": [
      "X shape is: (753, 1)\n",
      "y shape is: (753,)\n"
     ]
    }
   ],
   "source": [
    "X, y = decouple_data(df, 'gender')\n",
    "print(\"X shape is:\", X.shape)\n",
    "print(\"y shape is:\", y.shape)"
   ]
  },
  {
   "cell_type": "code",
   "execution_count": 20,
   "metadata": {},
   "outputs": [
    {
     "name": "stdout",
     "output_type": "stream",
     "text": [
      "X_train shape is: (677, 1)\n",
      "y_train shape is: (677,)\n",
      "X_test shape is: (76, 1)\n",
      "y_test shape is: (76,)\n"
     ]
    }
   ],
   "source": [
    "X_train, X_test, y_train, y_test = split_data(X, y)\n",
    "print(\"X_train shape is:\", X_train.shape)\n",
    "print(\"y_train shape is:\", y_train.shape)\n",
    "print(\"X_test shape is:\", X_test.shape)\n",
    "print(\"y_test shape is:\", y_test.shape)"
   ]
  },
  {
   "cell_type": "markdown",
   "metadata": {},
   "source": [
    "## Model Implementation\n",
    "\n",
    "* SGDClassifier had good f1 on the training but it was overfitting.\n",
    "* CountVectorizer didn't work well with Perceptron."
   ]
  },
  {
   "cell_type": "raw",
   "metadata": {},
   "source": [
    "regex1 = r'(\\w{2,20})\\b'\n",
    "\n",
    "cv_sgd_text_clf = Pipeline([\n",
    "        ('vect', CountVectorizer(ngram_range=(2,4),token_pattern  = regex1)),\n",
    "        ('clf', SGDClassifier(loss='modified_huber', penalty='l2',\n",
    "                              alpha=1e-6, random_state=42,\n",
    "                              max_iter=8, tol=0.0001, eta0 = 0.1,learning_rate= 'invscaling')),\n",
    "    ])\n",
    "\n",
    "\n",
    "cv_sgd_text_clf.fit(X_train.story, y_train)"
   ]
  },
  {
   "cell_type": "raw",
   "metadata": {},
   "source": [
    "# y_perd = clf.predict(X_test)\n",
    "y_pred=predict(cv_sgd_text_clf, X_test.story)\n",
    "confusion_matrix(y_test,y_pred)\n",
    "print(\"The macro f1 score is:\",f1_score(y_test, y_pred, average='macro'))\n",
    "print('\\n')\n",
    "print(metrics.classification_report(y_test, y_pred))"
   ]
  },
  {
   "cell_type": "code",
   "execution_count": 21,
   "metadata": {},
   "outputs": [
    {
     "data": {
      "text/plain": [
       "Pipeline(steps=[('vect',\n",
       "                 TfidfVectorizer(max_df=0.6, ngram_range=(1, 4),\n",
       "                                 token_pattern='(\\\\w{2,20})\\\\b')),\n",
       "                ('clf',\n",
       "                 Perceptron(alpha=1e-07, penalty='elasticnet', random_state=42,\n",
       "                            tol=None))])"
      ]
     },
     "execution_count": 21,
     "metadata": {},
     "output_type": "execute_result"
    }
   ],
   "source": [
    "regex1 = r'(\\w{2,20})\\b'\n",
    "\n",
    "tfidf_perceptron_clf = Pipeline([\n",
    "        ('vect', TfidfVectorizer(ngram_range=(1,4),token_pattern  = regex1, max_df = 0.60)),\n",
    "        ('clf', Perceptron(penalty='elasticnet',\n",
    "                              alpha=1e-7, random_state=42, tol=None))\n",
    "    ])\n",
    "    \n",
    "tfidf_perceptron_clf.fit(X_train.story, y_train)"
   ]
  },
  {
   "cell_type": "code",
   "execution_count": 22,
   "metadata": {},
   "outputs": [],
   "source": [
    "def predict(text_clf, y):\n",
    "    return text_clf.predict(y)"
   ]
  },
  {
   "cell_type": "code",
   "execution_count": 23,
   "metadata": {},
   "outputs": [
    {
     "data": {
      "text/plain": [
       "array([[49,  8],\n",
       "       [ 6, 13]])"
      ]
     },
     "execution_count": 23,
     "metadata": {},
     "output_type": "execute_result"
    },
    {
     "name": "stdout",
     "output_type": "stream",
     "text": [
      "The macro f1 score is: 0.7625000000000001\n",
      "\n",
      "\n",
      "              precision    recall  f1-score   support\n",
      "\n",
      "           0       0.89      0.86      0.88        57\n",
      "           1       0.62      0.68      0.65        19\n",
      "\n",
      "    accuracy                           0.82        76\n",
      "   macro avg       0.75      0.77      0.76        76\n",
      "weighted avg       0.82      0.82      0.82        76\n",
      "\n"
     ]
    }
   ],
   "source": [
    "y_pred=predict(tfidf_perceptron_clf, X_test.story)\n",
    "confusion_matrix(y_test,y_pred)\n",
    "print(\"The macro f1 score is:\",f1_score(y_test, y_pred, average='macro'))\n",
    "print('\\n')\n",
    "print(metrics.classification_report(y_test, y_pred))"
   ]
  }
 ],
 "metadata": {
  "kernelspec": {
   "display_name": "env_10",
   "language": "python",
   "name": "env_10"
  },
  "language_info": {
   "codemirror_mode": {
    "name": "ipython",
    "version": 3
   },
   "file_extension": ".py",
   "mimetype": "text/x-python",
   "name": "python",
   "nbconvert_exporter": "python",
   "pygments_lexer": "ipython3",
   "version": "3.10.0"
  }
 },
 "nbformat": 4,
 "nbformat_minor": 2
}
