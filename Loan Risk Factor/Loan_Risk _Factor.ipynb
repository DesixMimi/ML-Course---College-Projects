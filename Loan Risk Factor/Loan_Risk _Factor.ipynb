{
 "cells": [
  {
   "cell_type": "code",
   "execution_count": 1,
   "metadata": {},
   "outputs": [],
   "source": [
    "import math \n",
    "import statistics\n",
    "\n",
    "import pandas as pd\n",
    "import numpy as np\n",
    "np.random.seed(42)\n",
    "# --------------------------------------\n",
    "import sklearn\n",
    "from sklearn.preprocessing import MinMaxScaler\n",
    "from sklearn.model_selection import train_test_split, cross_val_score, GridSearchCV \n",
    "from sklearn.metrics import accuracy_score, f1_score, confusion_matrix\n",
    "from sklearn.tree import DecisionTreeClassifier\n",
    "from sklearn.naive_bayes import GaussianNB\n",
    "from sklearn.neighbors import KNeighborsClassifier\n",
    "# --------------------------------------\n",
    "from IPython.core.interactiveshell import InteractiveShell\n",
    "InteractiveShell.ast_node_interactivity = \"all\"\n",
    "pd.pandas.set_option('display.max_columns', None)\n",
    "pd.set_option('display.float_format', lambda x: '%.3f' % x)"
   ]
  },
  {
   "cell_type": "markdown",
   "metadata": {},
   "source": [
    "## Preprocessing\n",
    "In this section, there will be implementation of various pre-processing techniques on the \"Loan Risk Factor\" dataset.<br/>\n",
    "<b><u>It will include the following</u></b>:\n",
    "* 1.pre About Dataset - (review only - description of the dataset)\n",
    "* 1.a. Load dataset                 \n",
    "* 1.b. Duplicate removal\n",
    "* 1.c. Decouple Dataset\n",
    "* 1.d. Train Test Split\n",
    "* 1.e. Missing Values Handling \n",
    "* 1.f. Outlier Removal  \n",
    "* 1.g. Scaling   \n",
    "* 1.h. Check Correlation  \n",
    "* 1.i. Categorical Columns Handling "
   ]
  },
  {
   "cell_type": "markdown",
   "metadata": {},
   "source": [
    "#### 1.pre. About Dataset\n",
    "Each person is classified as **good** or **bad** credit risks according to the following set of attributes:    \n",
    "1. **age** (numeric)\n",
    "2. **sex** (text: male, female)\n",
    "3. **job** (numeric: 0 - unskilled and non-resident, 1 - unskilled and resident, 2 - skilled, 3 - highly skilled)\n",
    "4. **housing** (text: own, rent, or free)\n",
    "5. **years** (numeric, in years)\n",
    "5. **saving_account** (text - little, moderate, quite rich, rich)\n",
    "6. **checking_account** (numeric, in DM - Deutsch Mark)\n",
    "7. **credit_amount** (numeric, in DM)\n",
    "8. **duration** (numeric, in month)\n",
    "9. **purpose** (text: car, furniture/equipment, radio/TV, domestic appliances, repairs, education, business, vacation/others)\n",
    "10. **risk** (target) - (0 - risk, 1 - no risk)"
   ]
  },
  {
   "cell_type": "code",
   "execution_count": 2,
   "metadata": {},
   "outputs": [
    {
     "data": {
      "text/html": [
       "<div>\n",
       "<style scoped>\n",
       "    .dataframe tbody tr th:only-of-type {\n",
       "        vertical-align: middle;\n",
       "    }\n",
       "\n",
       "    .dataframe tbody tr th {\n",
       "        vertical-align: top;\n",
       "    }\n",
       "\n",
       "    .dataframe thead th {\n",
       "        text-align: right;\n",
       "    }\n",
       "</style>\n",
       "<table border=\"1\" class=\"dataframe\">\n",
       "  <thead>\n",
       "    <tr style=\"text-align: right;\">\n",
       "      <th></th>\n",
       "      <th>age</th>\n",
       "      <th>sex</th>\n",
       "      <th>job</th>\n",
       "      <th>housing</th>\n",
       "      <th>years</th>\n",
       "      <th>saving_account</th>\n",
       "      <th>checking_account</th>\n",
       "      <th>credit_amount</th>\n",
       "      <th>duration</th>\n",
       "      <th>purpose</th>\n",
       "      <th>risk</th>\n",
       "    </tr>\n",
       "  </thead>\n",
       "  <tbody>\n",
       "    <tr>\n",
       "      <th>0</th>\n",
       "      <td>26</td>\n",
       "      <td>male</td>\n",
       "      <td>2</td>\n",
       "      <td>own</td>\n",
       "      <td>1.000</td>\n",
       "      <td>little</td>\n",
       "      <td>rich</td>\n",
       "      <td>1330</td>\n",
       "      <td>12.000</td>\n",
       "      <td>car</td>\n",
       "      <td>1.000</td>\n",
       "    </tr>\n",
       "    <tr>\n",
       "      <th>1</th>\n",
       "      <td>43</td>\n",
       "      <td>male</td>\n",
       "      <td>2</td>\n",
       "      <td>own</td>\n",
       "      <td>2.000</td>\n",
       "      <td>NaN</td>\n",
       "      <td>NaN</td>\n",
       "      <td>2197</td>\n",
       "      <td>24.000</td>\n",
       "      <td>car</td>\n",
       "      <td>1.000</td>\n",
       "    </tr>\n",
       "    <tr>\n",
       "      <th>2</th>\n",
       "      <td>28</td>\n",
       "      <td>female</td>\n",
       "      <td>2</td>\n",
       "      <td>rent</td>\n",
       "      <td>1.250</td>\n",
       "      <td>little</td>\n",
       "      <td>little</td>\n",
       "      <td>1403</td>\n",
       "      <td>15.000</td>\n",
       "      <td>car</td>\n",
       "      <td>1.000</td>\n",
       "    </tr>\n",
       "    <tr>\n",
       "      <th>3</th>\n",
       "      <td>25</td>\n",
       "      <td>male</td>\n",
       "      <td>0</td>\n",
       "      <td>own</td>\n",
       "      <td>1.500</td>\n",
       "      <td>little</td>\n",
       "      <td>little</td>\n",
       "      <td>2473</td>\n",
       "      <td>18.000</td>\n",
       "      <td>furniture/equipment</td>\n",
       "      <td>0.000</td>\n",
       "    </tr>\n",
       "    <tr>\n",
       "      <th>4</th>\n",
       "      <td>29</td>\n",
       "      <td>male</td>\n",
       "      <td>2</td>\n",
       "      <td>rent</td>\n",
       "      <td>0.500</td>\n",
       "      <td>little</td>\n",
       "      <td>NaN</td>\n",
       "      <td>2108</td>\n",
       "      <td>6.000</td>\n",
       "      <td>radio/TV</td>\n",
       "      <td>NaN</td>\n",
       "    </tr>\n",
       "  </tbody>\n",
       "</table>\n",
       "</div>"
      ],
      "text/plain": [
       "   age     sex  job housing  years saving_account checking_account  \\\n",
       "0   26    male    2     own  1.000         little             rich   \n",
       "1   43    male    2     own  2.000            NaN              NaN   \n",
       "2   28  female    2    rent  1.250         little           little   \n",
       "3   25    male    0     own  1.500         little           little   \n",
       "4   29    male    2    rent  0.500         little              NaN   \n",
       "\n",
       "   credit_amount  duration              purpose  risk  \n",
       "0           1330    12.000                  car 1.000  \n",
       "1           2197    24.000                  car 1.000  \n",
       "2           1403    15.000                  car 1.000  \n",
       "3           2473    18.000  furniture/equipment 0.000  \n",
       "4           2108     6.000             radio/TV   NaN  "
      ]
     },
     "execution_count": 2,
     "metadata": {},
     "output_type": "execute_result"
    }
   ],
   "source": [
    "file_name_csv = 'loans_risk_factor_dups.csv'\n",
    "load_csv = lambda file_name: pd.read_csv(file_name)\n",
    "risk_factor_df = load_csv(file_name_csv)\n",
    "risk_factor_df.head()"
   ]
  },
  {
   "cell_type": "code",
   "execution_count": 3,
   "metadata": {},
   "outputs": [],
   "source": [
    "def remove_duplicates(risk_factor_df):\n",
    "    print(\"Number of duplicated rows: \",(risk_factor_df.duplicated()).sum())\n",
    "    risk_factor_df = risk_factor_df.drop_duplicates()\n",
    "    return risk_factor_df"
   ]
  },
  {
   "cell_type": "code",
   "execution_count": 4,
   "metadata": {},
   "outputs": [
    {
     "name": "stdout",
     "output_type": "stream",
     "text": [
      "Number of duplicated rows:  1039\n",
      "\n",
      "\n",
      "<class 'pandas.core.frame.DataFrame'>\n",
      "Int64Index: 551 entries, 0 to 1578\n",
      "Data columns (total 11 columns):\n",
      " #   Column            Non-Null Count  Dtype  \n",
      "---  ------            --------------  -----  \n",
      " 0   age               551 non-null    int64  \n",
      " 1   sex               551 non-null    object \n",
      " 2   job               551 non-null    int64  \n",
      " 3   housing           551 non-null    object \n",
      " 4   years             547 non-null    float64\n",
      " 5   saving_account    463 non-null    object \n",
      " 6   checking_account  372 non-null    object \n",
      " 7   credit_amount     551 non-null    int64  \n",
      " 8   duration          547 non-null    float64\n",
      " 9   purpose           551 non-null    object \n",
      " 10  risk              543 non-null    float64\n",
      "dtypes: float64(3), int64(3), object(5)\n",
      "memory usage: 51.7+ KB\n"
     ]
    }
   ],
   "source": [
    "risk_factor_df_no_dups = remove_duplicates(risk_factor_df)\n",
    "print('\\n')\n",
    "risk_factor_df_no_dups.info()"
   ]
  },
  {
   "cell_type": "code",
   "execution_count": 5,
   "metadata": {},
   "outputs": [],
   "source": [
    "def decouple_data(risk_factor_df):\n",
    "    y = risk_factor_df['risk']\n",
    "    X = risk_factor_df.drop(columns=['risk']).copy()\n",
    "    return X, y"
   ]
  },
  {
   "cell_type": "code",
   "execution_count": 6,
   "metadata": {},
   "outputs": [
    {
     "data": {
      "text/html": [
       "<div>\n",
       "<style scoped>\n",
       "    .dataframe tbody tr th:only-of-type {\n",
       "        vertical-align: middle;\n",
       "    }\n",
       "\n",
       "    .dataframe tbody tr th {\n",
       "        vertical-align: top;\n",
       "    }\n",
       "\n",
       "    .dataframe thead th {\n",
       "        text-align: right;\n",
       "    }\n",
       "</style>\n",
       "<table border=\"1\" class=\"dataframe\">\n",
       "  <thead>\n",
       "    <tr style=\"text-align: right;\">\n",
       "      <th></th>\n",
       "      <th>age</th>\n",
       "      <th>sex</th>\n",
       "      <th>job</th>\n",
       "      <th>housing</th>\n",
       "      <th>years</th>\n",
       "      <th>saving_account</th>\n",
       "      <th>checking_account</th>\n",
       "      <th>credit_amount</th>\n",
       "      <th>duration</th>\n",
       "      <th>purpose</th>\n",
       "    </tr>\n",
       "  </thead>\n",
       "  <tbody>\n",
       "    <tr>\n",
       "      <th>0</th>\n",
       "      <td>26</td>\n",
       "      <td>male</td>\n",
       "      <td>2</td>\n",
       "      <td>own</td>\n",
       "      <td>1.000</td>\n",
       "      <td>little</td>\n",
       "      <td>rich</td>\n",
       "      <td>1330</td>\n",
       "      <td>12.000</td>\n",
       "      <td>car</td>\n",
       "    </tr>\n",
       "    <tr>\n",
       "      <th>1</th>\n",
       "      <td>43</td>\n",
       "      <td>male</td>\n",
       "      <td>2</td>\n",
       "      <td>own</td>\n",
       "      <td>2.000</td>\n",
       "      <td>NaN</td>\n",
       "      <td>NaN</td>\n",
       "      <td>2197</td>\n",
       "      <td>24.000</td>\n",
       "      <td>car</td>\n",
       "    </tr>\n",
       "    <tr>\n",
       "      <th>2</th>\n",
       "      <td>28</td>\n",
       "      <td>female</td>\n",
       "      <td>2</td>\n",
       "      <td>rent</td>\n",
       "      <td>1.250</td>\n",
       "      <td>little</td>\n",
       "      <td>little</td>\n",
       "      <td>1403</td>\n",
       "      <td>15.000</td>\n",
       "      <td>car</td>\n",
       "    </tr>\n",
       "    <tr>\n",
       "      <th>3</th>\n",
       "      <td>25</td>\n",
       "      <td>male</td>\n",
       "      <td>0</td>\n",
       "      <td>own</td>\n",
       "      <td>1.500</td>\n",
       "      <td>little</td>\n",
       "      <td>little</td>\n",
       "      <td>2473</td>\n",
       "      <td>18.000</td>\n",
       "      <td>furniture/equipment</td>\n",
       "    </tr>\n",
       "    <tr>\n",
       "      <th>4</th>\n",
       "      <td>29</td>\n",
       "      <td>male</td>\n",
       "      <td>2</td>\n",
       "      <td>rent</td>\n",
       "      <td>0.500</td>\n",
       "      <td>little</td>\n",
       "      <td>NaN</td>\n",
       "      <td>2108</td>\n",
       "      <td>6.000</td>\n",
       "      <td>radio/TV</td>\n",
       "    </tr>\n",
       "  </tbody>\n",
       "</table>\n",
       "</div>"
      ],
      "text/plain": [
       "   age     sex  job housing  years saving_account checking_account  \\\n",
       "0   26    male    2     own  1.000         little             rich   \n",
       "1   43    male    2     own  2.000            NaN              NaN   \n",
       "2   28  female    2    rent  1.250         little           little   \n",
       "3   25    male    0     own  1.500         little           little   \n",
       "4   29    male    2    rent  0.500         little              NaN   \n",
       "\n",
       "   credit_amount  duration              purpose  \n",
       "0           1330    12.000                  car  \n",
       "1           2197    24.000                  car  \n",
       "2           1403    15.000                  car  \n",
       "3           2473    18.000  furniture/equipment  \n",
       "4           2108     6.000             radio/TV  "
      ]
     },
     "execution_count": 6,
     "metadata": {},
     "output_type": "execute_result"
    },
    {
     "data": {
      "text/plain": [
       "(551,)"
      ]
     },
     "execution_count": 6,
     "metadata": {},
     "output_type": "execute_result"
    }
   ],
   "source": [
    "X, y = decouple_data(risk_factor_df_no_dups)\n",
    "X.head()\n",
    "y.shape"
   ]
  },
  {
   "cell_type": "code",
   "execution_count": 7,
   "metadata": {},
   "outputs": [],
   "source": [
    "def split_data(X, y):\n",
    "    X_train, X_test, y_train, y_test = train_test_split(X,y, test_size = 0.20, random_state = 42, shuffle=False)\n",
    "    return X_train, X_test, y_train, y_test"
   ]
  },
  {
   "cell_type": "code",
   "execution_count": 8,
   "metadata": {},
   "outputs": [
    {
     "name": "stdout",
     "output_type": "stream",
     "text": [
      "train shape  (440, 10)\n",
      "train label shape  (440,)\n",
      "test shape  (111, 10)\n",
      "test label shape  (111,)\n"
     ]
    }
   ],
   "source": [
    "X_train, X_test, y_train, y_test = split_data(X, y)\n",
    "\n",
    "print(\"train shape \",X_train.shape)\n",
    "print(\"train label shape \",y_train.shape)\n",
    "print(\"test shape \",X_test.shape)\n",
    "print(\"test label shape \",y_test.shape)"
   ]
  },
  {
   "cell_type": "code",
   "execution_count": 9,
   "metadata": {},
   "outputs": [],
   "source": [
    "def handle_missing_values(X_train, X_test, y_train, y_test):\n",
    "    #Handling first the test because it should be based on the original train set's statistics\n",
    "    for col in ['saving_account','checking_account']:\n",
    "        X_test[col].fillna(X_train[col].mode().iloc[0],inplace=True)\n",
    "        X_train[col].fillna(X_train[col].mode().iloc[0],inplace=True)\n",
    "    X_test['credit_amount'].fillna(X_train['credit_amount'].median(),inplace=True)    \n",
    "    X_train['credit_amount'].fillna(X_train['credit_amount'].median(),inplace=True)\n",
    "    \n",
    "    for col in ['years','duration']:\n",
    "        X_test[col].fillna(X_train[col].mean(),inplace=True)\n",
    "        X_train[col].fillna(X_train[col].mean(),inplace=True)\n",
    "    \n",
    "    for idx, val in y_train.items():\n",
    "        if pd.isna(val):\n",
    "            X_train = X_train.drop(idx)\n",
    "    y_train = y_train.dropna()\n",
    "    \n",
    "    for idx, val in y_test.items():\n",
    "        if pd.isna(val):\n",
    "            X_test = X_test.drop(idx)\n",
    "    y_test = y_test.dropna()\n",
    "\n",
    "    return X_train, X_test, y_train, y_test"
   ]
  },
  {
   "cell_type": "code",
   "execution_count": 10,
   "metadata": {},
   "outputs": [
    {
     "name": "stdout",
     "output_type": "stream",
     "text": [
      "<class 'pandas.core.frame.DataFrame'>\n",
      "Int64Index: 432 entries, 0 to 824\n",
      "Data columns (total 10 columns):\n",
      " #   Column            Non-Null Count  Dtype  \n",
      "---  ------            --------------  -----  \n",
      " 0   age               432 non-null    int64  \n",
      " 1   sex               432 non-null    object \n",
      " 2   job               432 non-null    int64  \n",
      " 3   housing           432 non-null    object \n",
      " 4   years             432 non-null    float64\n",
      " 5   saving_account    432 non-null    object \n",
      " 6   checking_account  432 non-null    object \n",
      " 7   credit_amount     432 non-null    int64  \n",
      " 8   duration          432 non-null    float64\n",
      " 9   purpose           432 non-null    object \n",
      "dtypes: float64(2), int64(3), object(5)\n",
      "memory usage: 37.1+ KB\n"
     ]
    },
    {
     "data": {
      "text/plain": [
       "(432,)"
      ]
     },
     "execution_count": 10,
     "metadata": {},
     "output_type": "execute_result"
    },
    {
     "data": {
      "text/plain": [
       "(111, 10)"
      ]
     },
     "execution_count": 10,
     "metadata": {},
     "output_type": "execute_result"
    },
    {
     "data": {
      "text/plain": [
       "(111,)"
      ]
     },
     "execution_count": 10,
     "metadata": {},
     "output_type": "execute_result"
    }
   ],
   "source": [
    "X_train_filled_val, X_test_filled_val, y_train_filled_val, y_test_filled_val = handle_missing_values(X_train, X_test, y_train, y_test)\n",
    "\n",
    "X_train_filled_val.info()\n",
    "y_train_filled_val.shape\n",
    "\n",
    "X_test_filled_val.shape\n",
    "y_test_filled_val.shape"
   ]
  },
  {
   "cell_type": "code",
   "execution_count": 11,
   "metadata": {},
   "outputs": [],
   "source": [
    "def remove_outliers(X_train, X_test, y_train, y_test):\n",
    "    cols_for_iqr = ['age','years','credit_amount','duration']\n",
    "    idx_list_train = []\n",
    "    idx_list_test = []\n",
    "    for col in cols_for_iqr:\n",
    "        Q1 = X_train[col].quantile(0.25)\n",
    "        Q3 = X_train[col].quantile(0.75)\n",
    "        IQR = Q3 - Q1\n",
    "        \n",
    "        for row_idx, row_val in X_train[col].items():\n",
    "            if (row_val<(Q1-1.5*IQR))or (row_val>(Q3+1.5*IQR)):\n",
    "                idx_list_train.append(row_idx)\n",
    "                \n",
    "        for row_idx, row_val in X_test[col].items(): # this is still calculated by the IQR of train\n",
    "            if (row_val<(Q1-1.5*IQR))or (row_val>(Q3+1.5*IQR)):\n",
    "                idx_list_test.append(row_idx)\n",
    "\n",
    "    X_train.drop(idx_list_train, inplace=True)\n",
    "    y_train.drop(idx_list_train, inplace=True)\n",
    "    X_test.drop(idx_list_test, inplace=True)\n",
    "    y_test.drop(idx_list_test, inplace=True)\n",
    "    \n",
    "    return X_train, X_test, y_train, y_test\n",
    "    "
   ]
  },
  {
   "cell_type": "code",
   "execution_count": 12,
   "metadata": {},
   "outputs": [
    {
     "name": "stdout",
     "output_type": "stream",
     "text": [
      "train shape  (377, 10)\n",
      "train label shape  (377,)\n",
      "test shape  (93, 10)\n",
      "test label shape  (93,)\n"
     ]
    }
   ],
   "source": [
    "X_train_no_outliers, X_test_no_outliers, y_train, y_test = remove_outliers(X_train_filled_val, X_test_filled_val, y_train_filled_val, y_test_filled_val)\n",
    "\n",
    "print(\"train shape \",X_train_no_outliers.shape)\n",
    "print(\"train label shape \",y_train.shape)\n",
    "print(\"test shape \",X_test_no_outliers.shape)\n",
    "print(\"test label shape \",y_test.shape)"
   ]
  },
  {
   "cell_type": "code",
   "execution_count": 13,
   "metadata": {},
   "outputs": [],
   "source": [
    "def scale_data(X_train, X_test):\n",
    "    X_train_scaled = X_train.copy()\n",
    "    X_test_scaled = X_test.copy()\n",
    "    col_to_scale = ['age','years','credit_amount','duration']\n",
    "    scaler = MinMaxScaler(feature_range=(0, 1)) # shell\n",
    "    \n",
    "    for col in col_to_scale:\n",
    "        X_train_scaled[col] = scaler.fit_transform(X_train[[col]]) # calculate the values and apply them on the data \n",
    "        X_test_scaled[col] = scaler.transform(X_test[[col]]) # apply the values (obtained from the train) on the test data\n",
    "\n",
    "    return X_train_scaled, X_test_scaled"
   ]
  },
  {
   "cell_type": "code",
   "execution_count": 14,
   "metadata": {},
   "outputs": [],
   "source": [
    "X_train_scaled, X_test_scaled = scale_data(X_train_no_outliers, X_test_no_outliers)"
   ]
  },
  {
   "cell_type": "code",
   "execution_count": 15,
   "metadata": {},
   "outputs": [],
   "source": [
    "def remove_correlated(X_train, X_test):\n",
    "    corr_matrix = X_train.corr().abs()\n",
    "    upper = corr_matrix.where(np.triu(np.ones(corr_matrix.shape), k=1).astype(bool))\n",
    "    to_drop = [column for column in upper.columns if any(upper[column] > 0.95)]\n",
    "    X_train = X_train.drop(to_drop, axis=1)\n",
    "    X_test = X_test.drop(to_drop, axis=1)\n",
    "    \n",
    "    return X_train, X_test"
   ]
  },
  {
   "cell_type": "code",
   "execution_count": 16,
   "metadata": {},
   "outputs": [
    {
     "data": {
      "text/plain": [
       "(377, 10)"
      ]
     },
     "execution_count": 16,
     "metadata": {},
     "output_type": "execute_result"
    },
    {
     "data": {
      "text/plain": [
       "(377, 9)"
      ]
     },
     "execution_count": 16,
     "metadata": {},
     "output_type": "execute_result"
    },
    {
     "data": {
      "text/plain": [
       "(93, 9)"
      ]
     },
     "execution_count": 16,
     "metadata": {},
     "output_type": "execute_result"
    }
   ],
   "source": [
    "X_train_indep, X_test_indep = remove_correlated(X_train_scaled, X_test_scaled)\n",
    "\n",
    "X_train_scaled.shape\n",
    "X_train_indep.shape\n",
    "X_test_indep.shape"
   ]
  },
  {
   "cell_type": "code",
   "execution_count": 17,
   "metadata": {},
   "outputs": [],
   "source": [
    "def handle_categorical_columns(X_train, X_test):\n",
    "    train_encoded_columns = X_train.copy()\n",
    "    col_to_dumm = list(X_train.select_dtypes(include=['object']).columns)\n",
    "    X_train_encoded = pd.get_dummies(data=X_train, columns=col_to_dumm)\n",
    "    X_test_encoded = pd.get_dummies(data=X_test, columns=col_to_dumm)\n",
    "    X_test_encoded = X_test_encoded.reindex(columns = X_train_encoded.columns, fill_value=0)\n",
    "    return X_train_encoded, X_test_encoded"
   ]
  },
  {
   "cell_type": "code",
   "execution_count": 18,
   "metadata": {},
   "outputs": [
    {
     "data": {
      "text/plain": [
       "(377, 24)"
      ]
     },
     "execution_count": 18,
     "metadata": {},
     "output_type": "execute_result"
    },
    {
     "data": {
      "text/plain": [
       "(93, 24)"
      ]
     },
     "execution_count": 18,
     "metadata": {},
     "output_type": "execute_result"
    }
   ],
   "source": [
    "X_train_to_numeric, X_test_to_numeric = handle_categorical_columns(X_train_indep, X_test_indep)\n",
    "\n",
    "X_train_to_numeric.shape\n",
    "X_test_to_numeric.shape"
   ]
  },
  {
   "cell_type": "code",
   "execution_count": 19,
   "metadata": {},
   "outputs": [],
   "source": [
    "def train_knn(X_train, y_train):\n",
    "    k = 3\n",
    "    clf_knn= KNeighborsClassifier(n_neighbors=k)\n",
    "    clf_knn.fit(X_train,y_train)\n",
    "    return clf_knn"
   ]
  },
  {
   "cell_type": "code",
   "execution_count": 20,
   "metadata": {},
   "outputs": [
    {
     "data": {
      "text/plain": [
       "KNeighborsClassifier(n_neighbors=3)"
      ]
     },
     "execution_count": 20,
     "metadata": {},
     "output_type": "execute_result"
    }
   ],
   "source": [
    "knn_clf = train_knn(X_train_to_numeric, y_train)\n",
    "knn_clf"
   ]
  },
  {
   "cell_type": "code",
   "execution_count": 21,
   "metadata": {},
   "outputs": [],
   "source": [
    "def train_naive_bayes(X_train, y_train):\n",
    "    clf_gnb = GaussianNB()\n",
    "    clf_gnb.fit(X_train, y_train)\n",
    "    return clf_gnb"
   ]
  },
  {
   "cell_type": "code",
   "execution_count": 22,
   "metadata": {},
   "outputs": [
    {
     "data": {
      "text/plain": [
       "GaussianNB()"
      ]
     },
     "execution_count": 22,
     "metadata": {},
     "output_type": "execute_result"
    }
   ],
   "source": [
    "nb_clf = train_naive_bayes(X_train_to_numeric, y_train)\n",
    "nb_clf"
   ]
  },
  {
   "cell_type": "code",
   "execution_count": 23,
   "metadata": {},
   "outputs": [],
   "source": [
    "def train_decision_tree(X_train, y_train):\n",
    "    clf_dt = DecisionTreeClassifier(max_depth=3, min_samples_split=20)\n",
    "    clf_dt.fit(X_train, y_train)\n",
    "    return clf_dt"
   ]
  },
  {
   "cell_type": "code",
   "execution_count": 24,
   "metadata": {},
   "outputs": [
    {
     "data": {
      "text/plain": [
       "DecisionTreeClassifier(max_depth=3, min_samples_split=20)"
      ]
     },
     "execution_count": 24,
     "metadata": {},
     "output_type": "execute_result"
    }
   ],
   "source": [
    "dt_clf = train_decision_tree(X_train_to_numeric, y_train)\n",
    "dt_clf"
   ]
  },
  {
   "cell_type": "code",
   "execution_count": 25,
   "metadata": {},
   "outputs": [],
   "source": [
    "def evaluate_accuracy(clf, X_test, y_test):\n",
    "    y_pred = clf.predict(X_test)\n",
    "    accuracy = accuracy_score(y_test,y_pred)\n",
    "    return accuracy"
   ]
  },
  {
   "cell_type": "code",
   "execution_count": 26,
   "metadata": {},
   "outputs": [
    {
     "name": "stdout",
     "output_type": "stream",
     "text": [
      "The accuracy of the KNN model is:\n"
     ]
    },
    {
     "data": {
      "text/plain": [
       "0.5053763440860215"
      ]
     },
     "execution_count": 26,
     "metadata": {},
     "output_type": "execute_result"
    },
    {
     "name": "stdout",
     "output_type": "stream",
     "text": [
      "\n",
      "\n",
      "The accuracy of the Naive Bayes model is:\n"
     ]
    },
    {
     "data": {
      "text/plain": [
       "0.6344086021505376"
      ]
     },
     "execution_count": 26,
     "metadata": {},
     "output_type": "execute_result"
    },
    {
     "name": "stdout",
     "output_type": "stream",
     "text": [
      "\n",
      "\n",
      "The accuracy of the Decision Tree model is:\n"
     ]
    },
    {
     "data": {
      "text/plain": [
       "0.5268817204301075"
      ]
     },
     "execution_count": 26,
     "metadata": {},
     "output_type": "execute_result"
    }
   ],
   "source": [
    "print(\"The accuracy of the KNN model is:\")\n",
    "evaluate_accuracy(knn_clf, X_test_to_numeric, y_test)\n",
    "print('\\n')\n",
    "print(\"The accuracy of the Naive Bayes model is:\")\n",
    "evaluate_accuracy(nb_clf, X_test_to_numeric, y_test)\n",
    "print('\\n')\n",
    "print(\"The accuracy of the Decision Tree model is:\")\n",
    "evaluate_accuracy(dt_clf, X_test_to_numeric, y_test)\n"
   ]
  },
  {
   "cell_type": "code",
   "execution_count": 27,
   "metadata": {},
   "outputs": [],
   "source": [
    "def evaluate_accuracy_cross_validation(clf, X_train_to_numeric, X_test_to_numeric, y_train, y_test):\n",
    "    X = X_train_to_numeric.append([X_test_to_numeric])\n",
    "    y = y_train.append([y_test])\n",
    "    scores = cross_val_score(clf, X, y, scoring='accuracy', cv=10)\n",
    "    mean_accuracy = scores.mean()\n",
    "    return mean_accuracy"
   ]
  },
  {
   "cell_type": "code",
   "execution_count": 28,
   "metadata": {},
   "outputs": [
    {
     "name": "stdout",
     "output_type": "stream",
     "text": [
      "The mean Cross Validation score of the KNN model is: 0.5276595744680852\n",
      "The mean Cross Validation score of the Naive Bayes model is: 0.5829787234042554\n",
      "The mean Cross Validation score of the Decision Tree model is: 0.5553191489361703\n"
     ]
    }
   ],
   "source": [
    "knn_cv_acc_score = evaluate_accuracy_cross_validation(KNeighborsClassifier(n_neighbors=3)\n",
    "                                                      , X_train_to_numeric, X_test_to_numeric, y_train, y_test)\n",
    "nb_cv_acc_score = evaluate_accuracy_cross_validation(GaussianNB(),\n",
    "                                                     X_train_to_numeric, X_test_to_numeric, y_train, y_test)\n",
    "dt_cv_acc_score = evaluate_accuracy_cross_validation(\n",
    "                            DecisionTreeClassifier(max_depth=3, min_samples_split=20,random_state=42),\n",
    "                            X_train_to_numeric, X_test_to_numeric, y_train, y_test)\n",
    "print(\"The mean Cross Validation score of the KNN model is:\", knn_cv_acc_score)\n",
    "print(\"The mean Cross Validation score of the Naive Bayes model is:\", nb_cv_acc_score)\n",
    "print(\"The mean Cross Validation score of the Decision Tree model is:\", dt_cv_acc_score)"
   ]
  },
  {
   "cell_type": "code",
   "execution_count": 29,
   "metadata": {},
   "outputs": [],
   "source": [
    "def grid_search_knn(clf, X_train, y_train):\n",
    "    param_grid = {'n_neighbors': [3, 5, 11, 20, 35, 50],\n",
    "              'weights': ['uniform', 'distance'],\n",
    "              'metric': ['euclidean', 'manhattan', 'minkowski']}\n",
    "    optimal_params = GridSearchCV(\n",
    "        clf,\n",
    "        param_grid,\n",
    "        cv = 5)\n",
    "    grid_result = optimal_params.fit(X_train,y_train)\n",
    "    optimal_params.fit(X_train,y_train)\n",
    "    result = optimal_params.best_params_\n",
    "    return result"
   ]
  },
  {
   "cell_type": "code",
   "execution_count": 30,
   "metadata": {},
   "outputs": [
    {
     "name": "stdout",
     "output_type": "stream",
     "text": [
      "{'metric': 'euclidean', 'n_neighbors': 35, 'weights': 'uniform'}\n"
     ]
    }
   ],
   "source": [
    "grid_search_knn_result = grid_search_knn(KNeighborsClassifier(), X_train_to_numeric, y_train)\n",
    "print(grid_search_knn_result)"
   ]
  },
  {
   "cell_type": "code",
   "execution_count": 31,
   "metadata": {},
   "outputs": [],
   "source": [
    "def grid_search_decision_tree(clf, X_train, y_train):\n",
    "    param_grid = {'criterion': ['gini', 'entropy'],\n",
    "              'max_depth': [1, 2, 3, 4, 5, 6, 7, 8, 9, 10],\n",
    "              'min_samples_split': [5, 10, 15, 20, 25],\n",
    "              'min_samples_leaf': [1, 2, 3, 4, 5, 6, 7, 8, 9, 10]}\n",
    "    optimal_params = GridSearchCV(\n",
    "        clf,\n",
    "        param_grid,\n",
    "        cv = 5)\n",
    "    grid_result = optimal_params.fit(X_train,y_train)\n",
    "    optimal_params.fit(X_train,y_train)\n",
    "    result = optimal_params.best_params_\n",
    "    return result"
   ]
  },
  {
   "cell_type": "code",
   "execution_count": 32,
   "metadata": {},
   "outputs": [
    {
     "name": "stdout",
     "output_type": "stream",
     "text": [
      "{'criterion': 'gini', 'max_depth': 9, 'min_samples_leaf': 1, 'min_samples_split': 15}\n"
     ]
    }
   ],
   "source": [
    "grid_search_dt_result = grid_search_decision_tree(DecisionTreeClassifier(random_state=42), X_train_to_numeric, y_train)\n",
    "print(grid_search_dt_result)"
   ]
  },
  {
   "cell_type": "code",
   "execution_count": null,
   "metadata": {},
   "outputs": [],
   "source": []
  }
 ],
 "metadata": {
  "kernelspec": {
   "display_name": "env_10",
   "language": "python",
   "name": "env_10"
  },
  "language_info": {
   "codemirror_mode": {
    "name": "ipython",
    "version": 3
   },
   "file_extension": ".py",
   "mimetype": "text/x-python",
   "name": "python",
   "nbconvert_exporter": "python",
   "pygments_lexer": "ipython3",
   "version": "3.10.0"
  }
 },
 "nbformat": 4,
 "nbformat_minor": 2
}
